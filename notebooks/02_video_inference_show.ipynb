{
 "cells": [
  {
   "cell_type": "code",
   "execution_count": 19,
   "id": "ee47bacb-6bff-4f85-9922-baf904283fbc",
   "metadata": {},
   "outputs": [],
   "source": [
    "from operator import itemgetter\n",
    "from mmaction.apis import init_recognizer, inference_recognizer"
   ]
  },
  {
   "cell_type": "code",
   "execution_count": 35,
   "id": "5da939b1-bb7c-4172-8b00-694a52d6dd03",
   "metadata": {},
   "outputs": [],
   "source": [
    "# config_file = '../demo/demo_configs/slowfast_video_infer.py'\n",
    "config_file = '../configs/recognition/slowfast/slowfast_r50_8xb8-4x16x1-256e_xiandemo-rgb.py'\n",
    "# download the checkpoint from model zoo and put it in `checkpoints/`\n",
    "checkpoint_file = '../work_dirs/xiandemo_slowfast/epoch_256.pth'"
   ]
  },
  {
   "cell_type": "code",
   "execution_count": 36,
   "id": "6e3d7bfb-840e-4181-bdca-7321801083a9",
   "metadata": {},
   "outputs": [
    {
     "name": "stdout",
     "output_type": "stream",
     "text": [
      "Loads checkpoint by local backend from path: ../work_dirs/xiandemo_slowfast/epoch_256.pth\n"
     ]
    }
   ],
   "source": [
    "# build the model from a config file and a checkpoint file\n",
    "model = init_recognizer(config_file, checkpoint_file, device='cuda:0')"
   ]
  },
  {
   "cell_type": "code",
   "execution_count": 53,
   "id": "5949e1bb-cde5-4803-a84c-bda0c85501d0",
   "metadata": {},
   "outputs": [
    {
     "name": "stdout",
     "output_type": "stream",
     "text": [
      "top5_label: [(1, 0.9999860525131226), (0, 4.804053332918556e-06), (3, 4.803298452316085e-06), (2, 4.247869128448656e-06), (4, 8.111562976864661e-08)]\n",
      "labels: ['en', 'na', 'si', 'tie', 'zhuan']\n"
     ]
    }
   ],
   "source": [
    "import time\n",
    "\n",
    "# test a single video and show the result:\n",
    "# video = 'demo.mp4'\n",
    "# tmppkisry30.mp4\n",
    "video = '../data/xian_video_dataset/val/1 (20).mp4'\n",
    "# video = '../demo_out/temp/tmp6pqae0kb.mp4'\n",
    "# label = '../tools/data/kinetics/label_map_k400.txt'\n",
    "label = '../data/xian_video_dataset/label_map.txt'\n",
    "\n",
    "results = inference_recognizer(model, video)\n",
    "\n",
    "pred_scores = results.pred_score.tolist()\n",
    "score_tuples = tuple(zip(range(len(pred_scores)), pred_scores))\n",
    "score_sorted = sorted(score_tuples, key=itemgetter(1), reverse=True)\n",
    "top5_label = score_sorted[:5]\n",
    "print(f\"top5_label: {top5_label}\")\n",
    "\n",
    "labels = open(label).readlines()\n",
    "labels = [x.strip() for x in labels]\n",
    "print(f\"labels: {labels}\")\n",
    "results = [(labels[k[0]], k[1]) for k in top5_label]"
   ]
  },
  {
   "cell_type": "code",
   "execution_count": 54,
   "id": "72e21982-4d87-4c18-8f1d-c8ab2713055d",
   "metadata": {},
   "outputs": [
    {
     "name": "stdout",
     "output_type": "stream",
     "text": [
      "na:  0.9999860525131226\n",
      "en:  4.804053332918556e-06\n",
      "tie:  4.803298452316085e-06\n",
      "si:  4.247869128448656e-06\n",
      "zhuan:  8.111562976864661e-08\n"
     ]
    }
   ],
   "source": [
    "# show the results\n",
    "for result in results:\n",
    "    print(f'{result[0]}: ', result[1])"
   ]
  },
  {
   "cell_type": "code",
   "execution_count": null,
   "id": "df797eb7-7e15-4c63-b7d2-bac698ba5a3e",
   "metadata": {},
   "outputs": [],
   "source": []
  },
  {
   "cell_type": "code",
   "execution_count": null,
   "id": "c8db8dd3-9323-49ad-a6e5-3fd2e98d5258",
   "metadata": {},
   "outputs": [],
   "source": []
  }
 ],
 "metadata": {
  "kernelspec": {
   "display_name": "Python 3 (ipykernel)",
   "language": "python",
   "name": "python3"
  },
  "language_info": {
   "codemirror_mode": {
    "name": "ipython",
    "version": 3
   },
   "file_extension": ".py",
   "mimetype": "text/x-python",
   "name": "python",
   "nbconvert_exporter": "python",
   "pygments_lexer": "ipython3",
   "version": "3.10.14"
  }
 },
 "nbformat": 4,
 "nbformat_minor": 5
}
