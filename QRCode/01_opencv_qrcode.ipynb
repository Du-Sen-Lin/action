{
 "cells": [
  {
   "cell_type": "markdown",
   "id": "e28757b4-101e-4413-a474-2d9afa93a801",
   "metadata": {},
   "source": [
    "# 一、生成二维码 qrcode\n",
    "\n",
    "qrcode 是一个用于生成二维码的 Python 库，支持简单的二维码生成，同时提供自定义二维码大小、错误校正等配置选项。它可以创建包含文本、数字、URL等内容的二维码，生成的二维码可以保存为图片或在程序中进一步处理。\n",
    "\n",
    "\"\"\"\n",
    "-- Barcode(条形码) 与 QRCode(二维码)\n",
    "1. 数据存储结构\n",
    "条形码：一维结构，由宽度不等的平行条纹（通常是黑白条）组成，数据仅在水平方向（X轴）编码。条形码信息存储量较小，通常用于存储少量数字或字母，比如商品的 ID 或价格。\n",
    "二维码：二维结构，由黑白方块组成，数据在水平和垂直方向（X轴和Y轴）同时编码。二维码可以存储较多数据，包括文本、URL、数字、甚至二进制数据。\n",
    "2. 数据容量\n",
    "条形码：容量较小，通常在 20-30 个字符以内，最多可存储 43 个字符的简单编码数据。\n",
    "二维码：容量较大，可以存储数千个字符（具体取决于编码的复杂程度和所使用的纠错级别）。比如，标准的 QR 码可以存储多达 4,296 个字母或 7,089 个数字。\n",
    "3. 识别速度与纠错能力\n",
    "条形码：条形码的识别速度较快，但纠错能力较差，任何破损或模糊都可能导致扫描失败。\n",
    "二维码：二维码有较高的纠错能力，即使部分二维码破损、污损或存在部分遮挡，也能正确解码。二维码有四个纠错等级（L、M、Q、H），最高可修复 30% 的数据损坏。\n",
    "4. 占用空间\n",
    "条形码：由于是单维结构，条形码长度较长，占用水平空间较多，但在高度上较小。\n",
    "二维码：二维码占用的是方形空间，视觉上更紧凑，适合较小的区域。\n",
    "5. 常见类型\n",
    "条形码：包括常见的 EAN-13、UPC-A、Code 39、Code 128 等，用于零售商品、图书编号等。\n",
    "二维码：包括 QR 码（最常用）、Data Matrix、Aztec 码和 PDF417 等。QR 码在广告、支付、物流等领域广泛应用。\n",
    "\"\"\""
   ]
  },
  {
   "cell_type": "code",
   "execution_count": 12,
   "id": "de4a73df-f762-498b-895b-da53c78ff5e4",
   "metadata": {},
   "outputs": [],
   "source": [
    "import qrcode"
   ]
  },
  {
   "cell_type": "code",
   "execution_count": 13,
   "id": "37580f22-bbf2-4470-95f1-9e79b90db244",
   "metadata": {},
   "outputs": [],
   "source": [
    "data = \"https://www.tttttttttt.com\""
   ]
  },
  {
   "cell_type": "code",
   "execution_count": 14,
   "id": "2c208dd8-9746-4f0e-a013-dbd97e4e5f5e",
   "metadata": {},
   "outputs": [],
   "source": [
    "\"\"\"\n",
    "version: 控制二维码的大小。1 是最小的大小，40 是最大。设置 fit=True 可以自动调整大小。\n",
    "error_correction: 控制二维码的错误校正能力：\n",
    "    ERROR_CORRECT_L：7% 容错（最低）\n",
    "    ERROR_CORRECT_M：15% 容错\n",
    "    ERROR_CORRECT_Q：25% 容错\n",
    "    ERROR_CORRECT_H：30% 容错（最高）\n",
    "box_size: 控制二维码每个小格的像素数，影响生成的二维码的图像尺寸。\n",
    "border: 控制二维码边框的厚度（以格为单位），推荐至少设置为 4。\n",
    "\"\"\"\n",
    "\n",
    "qr = qrcode.QRCode(\n",
    "    version=1, \n",
    "    error_correction=qrcode.constants.ERROR_CORRECT_L, \n",
    "    box_size=10, \n",
    "    border=4)"
   ]
  },
  {
   "cell_type": "code",
   "execution_count": 15,
   "id": "c9dad897-88f4-4184-b4a6-0a80180d0246",
   "metadata": {},
   "outputs": [],
   "source": [
    "# 添加数据到二维码\n",
    "qr.add_data(data)\n",
    "qr.make(fit=True)"
   ]
  },
  {
   "cell_type": "code",
   "execution_count": 16,
   "id": "b3cba41e-7361-4685-b073-bd0bcc181b4d",
   "metadata": {},
   "outputs": [],
   "source": [
    "# 生成图像\n",
    "img = qr.make_image(fill='black', back_color='white')"
   ]
  },
  {
   "cell_type": "code",
   "execution_count": 17,
   "id": "e0a91351-db66-46d9-99a2-5302757c49dd",
   "metadata": {},
   "outputs": [],
   "source": [
    "# img.show()"
   ]
  },
  {
   "cell_type": "code",
   "execution_count": 18,
   "id": "07030adc-071f-4866-9ed5-174aec82dffe",
   "metadata": {},
   "outputs": [],
   "source": [
    "img.save(\"simple_qrcode.png\")"
   ]
  },
  {
   "cell_type": "code",
   "execution_count": 19,
   "id": "0385e1b7-2d34-423e-b85f-f4bee061745f",
   "metadata": {},
   "outputs": [],
   "source": [
    "import cv2\n",
    "import numpy as np\n",
    "\n",
    "img_cv = np.array(img.convert(\"RGB\"))"
   ]
  },
  {
   "cell_type": "code",
   "execution_count": 20,
   "id": "0e9b8618-6867-45df-ba64-efbd2b56552e",
   "metadata": {},
   "outputs": [
    {
     "data": {
      "text/plain": [
       "(330, 330, 3)"
      ]
     },
     "execution_count": 20,
     "metadata": {},
     "output_type": "execute_result"
    }
   ],
   "source": [
    "img_cv.shape"
   ]
  },
  {
   "cell_type": "code",
   "execution_count": 21,
   "id": "7174dcc6-8339-44fc-9691-94d9129190c4",
   "metadata": {},
   "outputs": [],
   "source": [
    "from matplotlib import pyplot as plt\n",
    "\n",
    "# fig, ax = plt.subplots(figsize=(8, 8))\n",
    "# ax.imshow(img_cv, cmap=\"gray\")"
   ]
  },
  {
   "cell_type": "markdown",
   "id": "143a829b-7868-48bb-8e21-65036feda7a2",
   "metadata": {},
   "source": [
    "# 二、qrcode 解码 opencv"
   ]
  },
  {
   "cell_type": "code",
   "execution_count": 22,
   "id": "863d30c6-8f59-40aa-b3df-079555e33d6a",
   "metadata": {},
   "outputs": [],
   "source": [
    "# 解码二维码\n",
    "detector = cv2.QRCodeDetector()"
   ]
  },
  {
   "cell_type": "code",
   "execution_count": 23,
   "id": "09b356f3-3e66-4492-b4b9-4c6fe3648921",
   "metadata": {},
   "outputs": [],
   "source": [
    "\"\"\"\n",
    "data：返回的解码数据（字符串类型），即从二维码中提取的原始信息\n",
    "vertices：一个包含二维码四个顶点坐标的数组（形状是 (4, 2)）。这些顶点坐标表示二维码图像的外框位置，按顺序返回。vertices 由四个 (x, y) 坐标组成，\n",
    "    这些坐标可以用于进一步的图像处理或几何变换（例如透视变换）; 这个数组表示二维码的四个顶点坐标，从左上角开始，按顺时针顺序排列。\n",
    "_: 返回的是一个 25x25 的 numpy 数组，表示二维码图像的一个 \"平直\" 或 \"标准\" 版本。它与二维码图像中的每个像素进行对应，\n",
    "    代表了二维码矩阵中的一个二进制值矩阵，显示了二维码图像的每个模块（例如黑白格子）的状态。具体来说，它是二维码的 \"标准化\" 图像\n",
    "\"\"\"\n",
    "data, vertices, _ = detector.detectAndDecode(img_cv)"
   ]
  },
  {
   "cell_type": "code",
   "execution_count": 24,
   "id": "3d4c6399-2512-4004-b589-c2a913fdc795",
   "metadata": {},
   "outputs": [
    {
     "data": {
      "text/plain": [
       "'https://www.tttttttttt.com'"
      ]
     },
     "execution_count": 24,
     "metadata": {},
     "output_type": "execute_result"
    }
   ],
   "source": [
    "data"
   ]
  },
  {
   "cell_type": "code",
   "execution_count": 25,
   "id": "62f95b73-2006-40f0-89b8-e410073586b1",
   "metadata": {},
   "outputs": [
    {
     "data": {
      "text/plain": [
       "array([[[ 40.     ,  40.     ],\n",
       "        [288.99997,  40.     ],\n",
       "        [288.99997, 288.99997],\n",
       "        [ 40.     , 288.99997]]], dtype=float32)"
      ]
     },
     "execution_count": 25,
     "metadata": {},
     "output_type": "execute_result"
    }
   ],
   "source": [
    "vertices"
   ]
  },
  {
   "cell_type": "code",
   "execution_count": 26,
   "id": "f061284f-f324-4e26-a8a6-497ec62cdc80",
   "metadata": {},
   "outputs": [
    {
     "data": {
      "text/plain": [
       "(25, 25)"
      ]
     },
     "execution_count": 26,
     "metadata": {},
     "output_type": "execute_result"
    }
   ],
   "source": [
    "_.shape"
   ]
  },
  {
   "cell_type": "code",
   "execution_count": 27,
   "id": "3b635e88-1e29-48ec-9030-b4d320bfc798",
   "metadata": {},
   "outputs": [],
   "source": [
    "from matplotlib import pyplot as plt\n",
    "\n",
    "# fig, ax = plt.subplots(figsize=(8, 8))\n",
    "# ax.imshow(_, cmap=\"gray\")"
   ]
  },
  {
   "cell_type": "code",
   "execution_count": 28,
   "id": "5f4396e2-d489-4d82-ab14-18db3354f9b4",
   "metadata": {},
   "outputs": [],
   "source": [
    "\"\"\" detect() 函数的主要作用是 检测二维码在图像中的位置，它返回二维码的位置点坐标\n",
    "retval: 返回一个布尔值，表示是否成功检测到二维码\n",
    "points: 返回一个包含二维码角点位置的列表, points 是一个 numpy 数组，形状为 (n, 4, 2)，其中 n 是检测到的二维码数量。\n",
    "\"\"\"\n",
    "retval, points = detector.detect(img_cv)"
   ]
  },
  {
   "cell_type": "code",
   "execution_count": 29,
   "id": "f3185f15-a973-452d-a4a9-3c63f46da48e",
   "metadata": {},
   "outputs": [
    {
     "data": {
      "text/plain": [
       "True"
      ]
     },
     "execution_count": 29,
     "metadata": {},
     "output_type": "execute_result"
    }
   ],
   "source": [
    "retval"
   ]
  },
  {
   "cell_type": "code",
   "execution_count": 30,
   "id": "bf72521d-9871-4d4f-b95e-ef2e03f8ece9",
   "metadata": {},
   "outputs": [
    {
     "data": {
      "text/plain": [
       "array([[[ 40.     ,  40.     ],\n",
       "        [288.99997,  40.     ],\n",
       "        [288.99997, 288.99997],\n",
       "        [ 40.     , 288.99997]]], dtype=float32)"
      ]
     },
     "execution_count": 30,
     "metadata": {},
     "output_type": "execute_result"
    }
   ],
   "source": [
    "points"
   ]
  },
  {
   "cell_type": "markdown",
   "id": "cf0dd934-7c2b-4afe-96a0-cdac94638929",
   "metadata": {},
   "source": [
    "# 三、DataMatrix码\n",
    "\n",
    "    \"\"\"\n",
    "    pip install pylibdmtx\n",
    "    \n",
    "    apt-get install libdmtx0a libdmtx-dev\n",
    "    \"\"\"\n"
   ]
  },
  {
   "cell_type": "code",
   "execution_count": 136,
   "id": "ac395260-50c5-480b-af32-f1085172ede1",
   "metadata": {},
   "outputs": [],
   "source": [
    "# 显示图像\n",
    "img = cv2.imread(\"datamatrix.png\", cv2.IMREAD_GRAYSCALE)\n",
    "# plt.imshow(img, cmap='gray')\n",
    "# plt.axis('off')  # 不显示坐标轴\n",
    "# plt.show()"
   ]
  },
  {
   "cell_type": "code",
   "execution_count": 69,
   "id": "d0a42a44-c6a4-4a06-8b0d-9bf992243b69",
   "metadata": {},
   "outputs": [],
   "source": [
    "from pylibdmtx.pylibdmtx import encode\n",
    "from PIL import Image\n",
    "import numpy as np\n",
    "import matplotlib.pyplot as plt"
   ]
  },
  {
   "cell_type": "code",
   "execution_count": 74,
   "id": "0a36294c-8aff-4679-992c-e41d26f8f56b",
   "metadata": {},
   "outputs": [],
   "source": [
    "# 生成 DataMatrix 码\n",
    "data = \"Hello, DataMatrix!\"\n",
    "# 使用 pylibdmtx 编码\n",
    "encoded = encode(data.encode('utf-8'))"
   ]
  },
  {
   "cell_type": "code",
   "execution_count": 76,
   "id": "235de6e3-bf65-4d60-81d3-da132ce9e343",
   "metadata": {},
   "outputs": [],
   "source": [
    "# 将编码的数据转换为 PIL 图像\n",
    "datamatrix_img = Image.frombytes('RGB', (encoded.width, encoded.height), encoded.pixels)"
   ]
  },
  {
   "cell_type": "code",
   "execution_count": 78,
   "id": "15a09b27-dcf0-455b-bf05-687a32e98626",
   "metadata": {},
   "outputs": [],
   "source": [
    "# 保存图片\n",
    "datamatrix_img.save(\"datamatrix.png\")"
   ]
  },
  {
   "cell_type": "code",
   "execution_count": 135,
   "id": "e3276ad0-990e-48e9-8838-87fc2a623738",
   "metadata": {},
   "outputs": [],
   "source": [
    "# 显示图片\n",
    "# datamatrix_img.show()"
   ]
  },
  {
   "cell_type": "code",
   "execution_count": 134,
   "id": "14823358-48e1-49c2-9029-410a8b80fc69",
   "metadata": {},
   "outputs": [],
   "source": [
    "# 显示图像\n",
    "# plt.imshow(datamatrix_img, cmap='gray')\n",
    "# plt.axis('off')  # 不显示坐标轴\n",
    "# plt.show()"
   ]
  },
  {
   "cell_type": "code",
   "execution_count": 85,
   "id": "8ec538ab-0dae-4340-b250-b2db55e422c2",
   "metadata": {},
   "outputs": [
    {
     "name": "stdout",
     "output_type": "stream",
     "text": [
      "Image shape: (110, 110, 3)\n"
     ]
    }
   ],
   "source": [
    "# 将 PIL 图像转换为 numpy 数组\n",
    "image_array = np.array(datamatrix_img)\n",
    "\n",
    "# 输出 numpy 数组的形状，即图像的 shape\n",
    "print(\"Image shape:\", image_array.shape)"
   ]
  },
  {
   "cell_type": "code",
   "execution_count": 86,
   "id": "c7465543-fb99-4f62-847a-ab51d8e56f12",
   "metadata": {},
   "outputs": [
    {
     "data": {
      "text/plain": [
       "(110, 110)"
      ]
     },
     "execution_count": 86,
     "metadata": {},
     "output_type": "execute_result"
    }
   ],
   "source": [
    "datamatrix_img.size"
   ]
  },
  {
   "cell_type": "code",
   "execution_count": 89,
   "id": "96ddcd8a-ef8b-454e-aada-a22e838f8e70",
   "metadata": {},
   "outputs": [
    {
     "data": {
      "text/plain": [
       "'RGB'"
      ]
     },
     "execution_count": 89,
     "metadata": {},
     "output_type": "execute_result"
    }
   ],
   "source": [
    "datamatrix_img.mode"
   ]
  },
  {
   "cell_type": "code",
   "execution_count": 91,
   "id": "69ffe721-6e61-4533-b7eb-c913c4fee654",
   "metadata": {},
   "outputs": [
    {
     "name": "stdout",
     "output_type": "stream",
     "text": [
      "Channels: 3\n"
     ]
    }
   ],
   "source": [
    "# 根据图像模式推断通道数\n",
    "mode_to_channels = {\n",
    "    \"1\": 1,      # 1-bit pixels, black and white\n",
    "    \"L\": 1,      # 8-bit pixels, grayscale\n",
    "    \"P\": 1,      # 8-bit pixels, mapped to palette\n",
    "    \"RGB\": 3,    # 3x8-bit pixels, true color\n",
    "    \"RGBA\": 4,   # 4x8-bit pixels, true color with transparency mask\n",
    "    \"CMYK\": 4,   # 4x8-bit pixels, color separation\n",
    "    \"YCbCr\": 3,  # 3x8-bit pixels, color video format\n",
    "    \"LAB\": 3,    # 3x8-bit pixels, L*a*b color space\n",
    "    \"HSV\": 3,    # 3x8-bit pixels, Hue, Saturation, Value\n",
    "    \"I\": 1,      # 32-bit integer pixels\n",
    "    \"F\": 1       # 32-bit floating point pixels\n",
    "}\n",
    "\n",
    "# 获取通道数\n",
    "channels = mode_to_channels.get(datamatrix_img.mode, \"Unknown\")\n",
    "print(\"Channels:\", channels)"
   ]
  },
  {
   "cell_type": "code",
   "execution_count": 133,
   "id": "1da9cae3-5908-4fac-9287-07b33cf68fb3",
   "metadata": {},
   "outputs": [
    {
     "name": "stdout",
     "output_type": "stream",
     "text": [
      "Decoded Data: Hello, DataMatrix!\n"
     ]
    }
   ],
   "source": [
    "from pylibdmtx.pylibdmtx import decode\n",
    "from PIL import Image\n",
    "\n",
    "# 加载包含 DataMatrix 码的图像\n",
    "image = Image.open(\"datamatrix.png\")\n",
    "\n",
    "# fig, ax = plt.subplots(figsize=(8, 8))\n",
    "# ax.imshow(image, cmap=\"gray\")\n",
    "\n",
    "# 解码图像中的 DataMatrix 码\n",
    "decoded_data = decode(image)\n",
    "\n",
    "# 打印解码后的数据\n",
    "if decoded_data:\n",
    "    print(\"Decoded Data:\", decoded_data[0].data.decode('utf-8'))\n",
    "else:\n",
    "    print(\"No DataMatrix code found in the image.\")"
   ]
  },
  {
   "cell_type": "markdown",
   "id": "641eaea1-dceb-403d-8e97-198ed11d800c",
   "metadata": {},
   "source": [
    "# 四、Zxing\n",
    "\n",
    "python-zxing不能正常使用且已不再维护\n",
    "\n",
    "\"\"\"\n",
    "\n",
    "使用方案1：https://pypi.org/project/pyzxing\n",
    "\n",
    "对应在代码仓库： https://github.com/ChenjieXu/pyzxing\n",
    "\n",
    "使用方案2：python-zxing  https://pypi.org/project/zxing  实在原有的python-zxing上的新的维护：https://github.com/dlenski/python-zxing\n",
    "\"\"\""
   ]
  },
  {
   "cell_type": "code",
   "execution_count": 31,
   "id": "94f864ff-9bc2-4bee-b9e7-290a605b83b4",
   "metadata": {},
   "outputs": [],
   "source": [
    "import zxing"
   ]
  },
  {
   "cell_type": "code",
   "execution_count": 32,
   "id": "557a9238-7c21-4d99-aed1-ae4478e3bca4",
   "metadata": {},
   "outputs": [
    {
     "data": {
      "text/plain": [
       "'1.0.3'"
      ]
     },
     "execution_count": 32,
     "metadata": {},
     "output_type": "execute_result"
    }
   ],
   "source": [
    "zxing.__version__"
   ]
  },
  {
   "cell_type": "code",
   "execution_count": 33,
   "id": "d56d9f8b-20bf-47b8-856b-bf4cc778370a",
   "metadata": {},
   "outputs": [],
   "source": [
    "reader = zxing.BarCodeReader()"
   ]
  },
  {
   "cell_type": "code",
   "execution_count": 34,
   "id": "d8816b8f-0a23-4837-b0a4-165540aa13c5",
   "metadata": {},
   "outputs": [
    {
     "name": "stdout",
     "output_type": "stream",
     "text": [
      "3.5.3 (3, 5, 3)\n"
     ]
    }
   ],
   "source": [
    "print(reader.zxing_version, reader.zxing_version_info)"
   ]
  },
  {
   "cell_type": "code",
   "execution_count": 35,
   "id": "aa835c11-2e53-4636-825a-80173f3936dc",
   "metadata": {},
   "outputs": [],
   "source": [
    "image = cv2.imread(\"./datamatrix.png\")\n",
    "\n",
    "# fig, ax = plt.subplots(figsize=(8, 8))\n",
    "# ax.imshow(image, cmap=\"gray\")\n",
    "\n",
    "barcode = reader.decode(\"./datamatrix.png\")"
   ]
  },
  {
   "cell_type": "code",
   "execution_count": 36,
   "id": "b63e2be6-fdf5-4663-ba73-55775ae32dcf",
   "metadata": {},
   "outputs": [
    {
     "data": {
      "text/plain": [
       "BarCode(raw='Hello, DataMatrix!', parsed='Hello, DataMatrix!', raw_bits='49666d6d702d21456275624e6275736a7922', path='/root/project/research/code/datamatrix.png', format='DATA_MATRIX', type='TEXT', points=[(11.219178, 11.200866), (11.219178, 97.79752), (97.78082, 97.79594), (97.78082, 11.088031)])"
      ]
     },
     "execution_count": 36,
     "metadata": {},
     "output_type": "execute_result"
    }
   ],
   "source": [
    "barcode"
   ]
  },
  {
   "cell_type": "code",
   "execution_count": 37,
   "id": "9091cb72-5da2-4dad-adb5-396d9c3ba0cc",
   "metadata": {},
   "outputs": [
    {
     "name": "stdout",
     "output_type": "stream",
     "text": [
      "barcode: BarCode(raw='https://www.tttttttttt.com', parsed='https://www.tttttttttt.com', raw_bits='41a68747470733a2f2f7777772e747474747474747474742e636f6d0ec11ec11ec11', path='/root/project/research/code/simple_qrcode.png', format='QR_CODE', type='URI', points=[(75.0, 255.0), (75.0, 75.0), (255.0, 75.0), (225.0, 225.0)])\n"
     ]
    }
   ],
   "source": [
    "image = cv2.imread(\"./simple_qrcode.png\")\n",
    "\n",
    "# fig, ax = plt.subplots(figsize=(8, 8))\n",
    "# ax.imshow(image, cmap=\"gray\")\n",
    "\n",
    "barcode = reader.decode(\"./simple_qrcode.png\")\n",
    "\n",
    "print(f\"barcode: {barcode}\")"
   ]
  },
  {
   "cell_type": "code",
   "execution_count": 38,
   "id": "02b8110f-ebe7-491a-99c5-0ae0fd701278",
   "metadata": {},
   "outputs": [
    {
     "name": "stdout",
     "output_type": "stream",
     "text": [
      "barcode: BarCode(raw='010551AXDR90360361', parsed='010551AXDR90360361', raw_bits='690105336421382432635a24033d646a', path='/root/dataset/code/new_oral/Image_20241031151938932.bmp', format='CODE_128', type='TEXT', points=[(3091.0, 1596.0), (1994.0, 1596.0)])\n"
     ]
    }
   ],
   "source": [
    "image = cv2.imread(\"/root/dataset/code/new_oral/Image_20241031151938932.bmp\")\n",
    "\n",
    "# fig, ax = plt.subplots(figsize=(8, 8))\n",
    "# ax.imshow(image, cmap=\"gray\")\n",
    "\n",
    "barcode = reader.decode(\"/root/dataset/code/new_oral/Image_20241031151938932.bmp\")\n",
    "\n",
    "print(f\"barcode: {barcode}\")"
   ]
  },
  {
   "cell_type": "code",
   "execution_count": 129,
   "id": "bf7bd20c-d9c6-4560-a847-28dd2411676b",
   "metadata": {},
   "outputs": [],
   "source": [
    "# import os\n",
    "# import tempfile\n",
    "\n",
    "# image_folder = \"/root/dataset/code/new_oral2/\"\n",
    "# nums = 0\n",
    "# # 创建 ZXing 解码器\n",
    "# reader = zxing.BarCodeReader()\n",
    "\n",
    "# # 遍历文件夹中的所有文件\n",
    "# for filename in os.listdir(image_folder):\n",
    "#     image_path = os.path.join(image_folder, filename)\n",
    "#     print(f\"image_path: {image_path}\")\n",
    "\n",
    "#     image = Image.open(image_path)\n",
    "#     # 将 PIL 图像转换为 NumPy 数组\n",
    "#     image = np.array(image)\n",
    "#     # 进行切片操作\n",
    "#     image = image[2000:2000 + 1000, 1500: 1500 + 2000]\n",
    "\n",
    "#     image = cv2.cvtColor(image, cv2.COLOR_RGB2GRAY)\n",
    "#     # _, image = cv2.threshold(image, 128, 255, cv2.THRESH_BINARY)\n",
    "    \n",
    "#     with tempfile.NamedTemporaryFile(delete=False, suffix=\".png\") as temp_file:\n",
    "#         temp_file_path = temp_file.name\n",
    "#         cv2.imwrite(temp_file_path, image)\n",
    "\n",
    "#     print(f\"temp_file_path: {temp_file_path}\")\n",
    "#     barcode = reader.decode(temp_file_path)\n",
    "    \n",
    "#     # 检查是否检测到条形码\n",
    "#     if barcode.raw:\n",
    "#         nums += 1\n",
    "#         print(f\"barcode: {barcode}\")\n",
    "#         # fig, ax = plt.subplots(figsize=(8, 8))\n",
    "#         # ax.imshow(image, cmap=\"gray\")        \n",
    "#     else:\n",
    "#         fig, ax = plt.subplots(figsize=(8, 8))\n",
    "#         ax.imshow(image, cmap=\"gray\")        \n",
    "#         print(\"No barcode detected\")\n",
    "#         print(f\"barcode: {barcode}\")"
   ]
  },
  {
   "cell_type": "code",
   "execution_count": 128,
   "id": "280c6a47-e534-4529-b278-caf9e00b0a1a",
   "metadata": {},
   "outputs": [],
   "source": [
    "# import os\n",
    "# import tempfile\n",
    "\n",
    "# image_folder = \"/root/dataset/code/new_oral/\"\n",
    "# nums = 0\n",
    "# # 创建 ZXing 解码器\n",
    "# reader = zxing.BarCodeReader()\n",
    "\n",
    "# # 遍历文件夹中的所有文件\n",
    "# for filename in os.listdir(image_folder):\n",
    "#     image_path = os.path.join(image_folder, filename)\n",
    "#     print(f\"image_path: {image_path}\")\n",
    "\n",
    "#     image = Image.open(image_path)\n",
    "#     # 将 PIL 图像转换为 NumPy 数组\n",
    "#     image = np.array(image)\n",
    "#     # 进行切片操作\n",
    "#     image = image[1500:1500 + 300, 1700: 1700 + 1500]\n",
    "\n",
    "#     image = cv2.cvtColor(image, cv2.COLOR_RGB2GRAY)\n",
    "#     # _, image = cv2.threshold(image, 146, 255, cv2.THRESH_BINARY)\n",
    "    \n",
    "#     with tempfile.NamedTemporaryFile(delete=False, suffix=\".png\") as temp_file:\n",
    "#         temp_file_path = temp_file.name\n",
    "#         cv2.imwrite(temp_file_path, image)\n",
    "\n",
    "#     print(f\"temp_file_path: {temp_file_path}\")\n",
    "#     barcode = reader.decode(temp_file_path)\n",
    "    \n",
    "#     # 检查是否检测到条形码\n",
    "#     if barcode.raw:\n",
    "#         nums += 1\n",
    "#         print(f\"barcode: {barcode}\")\n",
    "#         # fig, ax = plt.subplots(figsize=(8, 8))\n",
    "#         # ax.imshow(image, cmap=\"gray\")        \n",
    "#     else:\n",
    "#         fig, ax = plt.subplots(figsize=(8, 8))\n",
    "#         ax.imshow(image, cmap=\"gray\")        \n",
    "#         print(\"No barcode detected\")\n",
    "#         print(f\"barcode: {barcode}\")"
   ]
  },
  {
   "cell_type": "markdown",
   "id": "b6f3b35e-2570-4d6b-9a63-b33479718e18",
   "metadata": {},
   "source": [
    "# 五、wechat QRCode"
   ]
  },
  {
   "cell_type": "code",
   "execution_count": 39,
   "id": "b13786a2-390d-4b5a-8324-f8b7cf4fe537",
   "metadata": {},
   "outputs": [],
   "source": [
    "import cv2\n",
    "from cv2.wechat_qrcode import WeChatQRCode"
   ]
  },
  {
   "cell_type": "code",
   "execution_count": 40,
   "id": "cd72e435-b24c-45dc-922e-d4629e56b626",
   "metadata": {},
   "outputs": [
    {
     "name": "stdout",
     "output_type": "stream",
     "text": [
      "res: ('https://www.tttttttttt.com',)\n",
      "points: (array([[ 40.,  40.],\n",
      "       [290.,  40.],\n",
      "       [290., 290.],\n",
      "       [ 40., 290.]], dtype=float32),)\n"
     ]
    }
   ],
   "source": [
    "detect_obj = cv2.wechat_qrcode_WeChatQRCode()\n",
    "img = cv2.imread('./simple_qrcode.png')\n",
    "res,points = detect_obj.detectAndDecode(img)\n",
    "print('res:',res)\n",
    "print('points:',points)"
   ]
  },
  {
   "cell_type": "code",
   "execution_count": 41,
   "id": "e2680b33-8454-4e34-be9a-cc600cad60da",
   "metadata": {},
   "outputs": [
    {
     "name": "stdout",
     "output_type": "stream",
     "text": [
      "('https://www.tttttttttt.com',)\n",
      "(array([[ 40.,  40.],\n",
      "       [290.,  40.],\n",
      "       [290., 290.],\n",
      "       [ 40., 290.]], dtype=float32),)\n"
     ]
    }
   ],
   "source": [
    "from cv2.wechat_qrcode import WeChatQRCode\n",
    "\n",
    "detector = WeChatQRCode(\n",
    "    detector_prototxt_path=\"./opencv_3rdparty/detect.prototxt\", \n",
    "    detector_caffe_model_path=\"./opencv_3rdparty/detect.caffemodel\", \n",
    "    super_resolution_prototxt_path=\"./opencv_3rdparty/sr.prototxt\", \n",
    "    super_resolution_caffe_model_path=\"./opencv_3rdparty/sr.caffemodel\")\n",
    "img = cv2.imread(\"./simple_qrcode.png\") \n",
    "res, points = detector.detectAndDecode(img)\n",
    "\n",
    "print(res)\n",
    "print(points)"
   ]
  },
  {
   "cell_type": "markdown",
   "id": "c60425cd-7297-4323-828d-63bfe11fd7f5",
   "metadata": {},
   "source": [
    "# 六、zbar qrcode"
   ]
  },
  {
   "cell_type": "code",
   "execution_count": 42,
   "id": "78a5b77c-7d27-4992-a3a2-c847c6d8530e",
   "metadata": {},
   "outputs": [],
   "source": [
    "from pyzbar.pyzbar import decode\n",
    "from PIL import Image\n"
   ]
  },
  {
   "cell_type": "code",
   "execution_count": 44,
   "id": "572af3da-9c89-4ae1-a6a1-686eaadd603e",
   "metadata": {},
   "outputs": [
    {
     "name": "stdout",
     "output_type": "stream",
     "text": [
      "Detected barcode content: https://www.tttttttttt.com\n"
     ]
    }
   ],
   "source": [
    "from pyzbar.pyzbar import decode\n",
    "from PIL import Image\n",
    "\n",
    "# 读取生成的条形码图像\n",
    "\n",
    "image = cv2.imread(\"./simple_qrcode.png\")\n",
    "\n",
    "# fig, ax = plt.subplots(figsize=(8, 8))\n",
    "# ax.imshow(image, cmap=\"gray\")\n",
    "\n",
    "# 使用 Pyzbar 解码条形码\n",
    "decoded_objects = decode(image)\n",
    "\n",
    "# 检查是否检测到条形码\n",
    "if decoded_objects:\n",
    "    for obj in decoded_objects:\n",
    "        print(\"Detected barcode content:\", obj.data.decode(\"utf-8\"))\n",
    "else:\n",
    "    print(\"No barcode detected\")"
   ]
  },
  {
   "cell_type": "code",
   "execution_count": null,
   "id": "7b92afb6-e3aa-4cd8-b5b6-c07479f6a981",
   "metadata": {},
   "outputs": [],
   "source": []
  }
 ],
 "metadata": {
  "kernelspec": {
   "display_name": "Python 3 (ipykernel)",
   "language": "python",
   "name": "python3"
  },
  "language_info": {
   "codemirror_mode": {
    "name": "ipython",
    "version": 3
   },
   "file_extension": ".py",
   "mimetype": "text/x-python",
   "name": "python",
   "nbconvert_exporter": "python",
   "pygments_lexer": "ipython3",
   "version": "3.10.14"
  }
 },
 "nbformat": 4,
 "nbformat_minor": 5
}
